{
 "cells": [
  {
   "cell_type": "markdown",
   "metadata": {},
   "source": [
    "## Demo: Web scraping with BeautifulSoup"
   ]
  },
  {
   "cell_type": "markdown",
   "metadata": {},
   "source": [
    "this demo shows how to use BeautifulSoup to crawl job listing in indeed."
   ]
  },
  {
   "cell_type": "code",
   "execution_count": 1,
   "metadata": {
    "collapsed": true
   },
   "outputs": [],
   "source": [
    "## Import the necessary packages\n",
    "from bs4 import BeautifulSoup\n",
    "import urllib\n",
    "import re\n",
    "import pandas as pd"
   ]
  },
  {
   "cell_type": "markdown",
   "metadata": {},
   "source": [
    "### 1. Reach the link of jobs first"
   ]
  },
  {
   "cell_type": "markdown",
   "metadata": {},
   "source": [
    "use indeed mobile web version (https://www.indeed.com/m/) since its html is simplier"
   ]
  },
  {
   "cell_type": "code",
   "execution_count": 2,
   "metadata": {},
   "outputs": [
    {
     "name": "stdout",
     "output_type": "stream",
     "text": [
      "viewjob?jk=8d11ab80a497e4bd\n",
      "<class 'str'>\n",
      "https://www.indeed.com/m/viewjob?jk=8d11ab80a497e4bd\n",
      "viewjob?jk=c5d25ae33dedf097\n",
      "<class 'str'>\n",
      "https://www.indeed.com/m/viewjob?jk=c5d25ae33dedf097\n",
      "viewjob?jk=ed0c4721f9b456bd\n",
      "<class 'str'>\n",
      "https://www.indeed.com/m/viewjob?jk=ed0c4721f9b456bd\n",
      "viewjob?jk=110b9c2db276db58\n",
      "<class 'str'>\n",
      "https://www.indeed.com/m/viewjob?jk=110b9c2db276db58\n",
      "viewjob?jk=193547a91e3c7357\n",
      "<class 'str'>\n",
      "https://www.indeed.com/m/viewjob?jk=193547a91e3c7357\n",
      "viewjob?jk=0610bd006c630479\n",
      "<class 'str'>\n",
      "https://www.indeed.com/m/viewjob?jk=0610bd006c630479\n",
      "viewjob?jk=ee6d5ddff98335ac\n",
      "<class 'str'>\n",
      "https://www.indeed.com/m/viewjob?jk=ee6d5ddff98335ac\n",
      "viewjob?jk=260ceedfb7f96549\n",
      "<class 'str'>\n",
      "https://www.indeed.com/m/viewjob?jk=260ceedfb7f96549\n",
      "viewjob?jk=e8fe83ac09c606ce\n",
      "<class 'str'>\n",
      "https://www.indeed.com/m/viewjob?jk=e8fe83ac09c606ce\n",
      "viewjob?jk=c61846f8b8f7017f\n",
      "<class 'str'>\n",
      "https://www.indeed.com/m/viewjob?jk=c61846f8b8f7017f\n"
     ]
    }
   ],
   "source": [
    "from urllib.request import urlopen\n",
    "url = \"https://www.indeed.com/m/jobs?q=data+scientist&l=Los+Angeles%2C+CA\"\n",
    "page = urlopen(url)\n",
    "soup = BeautifulSoup(page, 'lxml')\n",
    "\n",
    "all_matches = soup.find_all('a', attrs={'rel':['nofollow']})\n",
    "for i in all_matches:\n",
    "    print (i['href'])\n",
    "    print (type(i['href']))\n",
    "    print (\"https://www.indeed.com/m/\"+i['href'])"
   ]
  },
  {
   "cell_type": "markdown",
   "metadata": {},
   "source": [
    "### 2. Find the title, company, location and detailed job description for each job"
   ]
  },
  {
   "cell_type": "markdown",
   "metadata": {},
   "source": [
    "Let's first see a brief example:"
   ]
  },
  {
   "cell_type": "code",
   "execution_count": 3,
   "metadata": {
    "collapsed": true
   },
   "outputs": [],
   "source": [
    "test_html= \\\n",
    "'''\n",
    "<html>\n",
    "\t<body>\n",
    "\t\t<p>\n",
    "\t\t\t<b>\n",
    "\t\t\t\t<font size=\"+1\">Analyst - Data Science</font>\n",
    "\t\t\t</b>\n",
    "\t\t\t<br>The Boston Consulting Group - <span class=\"location\">Los Angeles, CA</span>\n",
    "\t\t</p>\n",
    "\t</body>\n",
    "</html>\n",
    "'''\n"
   ]
  },
  {
   "cell_type": "code",
   "execution_count": 4,
   "metadata": {
    "collapsed": true
   },
   "outputs": [],
   "source": [
    "bs = BeautifulSoup(test_html,'lxml')"
   ]
  },
  {
   "cell_type": "code",
   "execution_count": 5,
   "metadata": {},
   "outputs": [
    {
     "name": "stdout",
     "output_type": "stream",
     "text": [
      "Analyst - Data Science\n"
     ]
    }
   ],
   "source": [
    "print(bs.body.p.b.font.text)"
   ]
  },
  {
   "cell_type": "code",
   "execution_count": 6,
   "metadata": {},
   "outputs": [
    {
     "name": "stdout",
     "output_type": "stream",
     "text": [
      "\n",
      "\n",
      "Analyst - Data Science\n",
      "\n",
      "The Boston Consulting Group - Los Angeles, CA\n",
      "\n"
     ]
    }
   ],
   "source": [
    "print(bs.body.p.text)"
   ]
  },
  {
   "cell_type": "code",
   "execution_count": 7,
   "metadata": {},
   "outputs": [
    {
     "name": "stdout",
     "output_type": "stream",
     "text": [
      "Los Angeles, CA\n"
     ]
    }
   ],
   "source": [
    "print(bs.body.p.span.text)"
   ]
  },
  {
   "cell_type": "markdown",
   "metadata": {},
   "source": [
    "#### Find title, company, location and job description for one position"
   ]
  },
  {
   "cell_type": "code",
   "execution_count": 8,
   "metadata": {
    "collapsed": true
   },
   "outputs": [],
   "source": [
    "title = []\n",
    "company = []\n",
    "location = []\n",
    "jd = []\n",
    "for each in all_matches:\n",
    "    jd_url= 'http://www.indeed.com/m/'+each['href']\n",
    "    jd_page = urlopen(jd_url)\n",
    "    jd_soup = BeautifulSoup(jd_page, 'lxml')\n",
    "    jd_desc = jd_soup.findAll('div',attrs={'id':['desc']}) ## find the structure like: <div id=\"desc\"></>\n",
    "#    break\n",
    "    title.append(jd_soup.body.p.b.font.text)\n",
    "    company.append(jd_desc[0].span.text)\n",
    "    location.append(jd_soup.body.p.span.text)\n",
    "    jd.append(jd_desc[0].text)"
   ]
  },
  {
   "cell_type": "code",
   "execution_count": 9,
   "metadata": {
    "scrolled": false
   },
   "outputs": [
    {
     "name": "stdout",
     "output_type": "stream",
     "text": [
      "Research Scientists work on and contribute to research projects relevant to Disney Research and the company. Our researchers have the possibility to publish results in top venues such as NIPS, ICML, CVPR, or EMNLP. Areas of interest include, but are not limited to:\n",
      "Information extraction from text, knowledge base construction and completion, embedding methods\n",
      "Dialogue systems\n",
      "Hybrid approaches between statistical and symbolic AI\n",
      "Probabilistic modeling and approximate inference\n",
      "Deep learning, representation learning\n",
      "Recommender systems\n",
      "Machine learning for robotics\n",
      "Activity and action recognition in videos, metadata extraction\n",
      "\n",
      "Duties of a Research Scientist include:\n",
      "Conduct complex, advanced research projects in areas of interest to Disney Research and our partnering Business Units\n",
      "Develop new and advanced cutting-edge techniques and algorithms\n",
      "Transfer and implement results and technology in hard- and software prototypes and demo systems relevant to the Disney businesses\n",
      "Survey relevant technologies and stay abreast of latest developments\n",
      "Draft and submit papers and patents based on research\n",
      "Besides these research and development duties, additional duties are:\n",
      "\n",
      "Assisting in the hiring and mentoring process of Post Doctoral Researchers, Lab Associates and Interns\n",
      "Closely align and integrate with the Disney businesses to create value for the company by developing cutting edge technology\n",
      "Contribute and deliver to major research projects and programs of Disney Research\n",
      "Establishing and maintaining effective working relations with collaborators within and external to the company.\n",
      "PHD or significant industrial experience.\n",
      "©Disney is an equal opportunity employer. Drawing Creativity from Diversity.\n",
      "\"We create happiness.” That’s our motto at Walt Disney Parks and Resorts. And it permeates everything we do. At Disney, you’ll help inspire that magic by enabling our teams to push the limits of entertainment and create the never-before-seen!\n",
      "\n",
      "Walt Disney Imagineering is the master planning, creative development, design, engineering, production, project management, and research and development arm of The Walt Disney Company. Its talented corps of Imagineers is responsible for the creation - from concept initiation through installation - of all Disney Resorts, theme parks and attractions, real estate developments, regional entertainment venues, and new media projects.\n",
      "\n",
      "Disney Research Los Angeles is looking for a Research Scientist in Machine Learning and Artificial Intelligence with applications in Computer Vision or Natural Language Processing, holding a PhD or significant industry experience in these areas or related quantitative fields.\n",
      "\n",
      "©Disney is an equal opportunity employer. Drawing Creativity from Diversity. 512154\n",
      "Disney - \n",
      "30+ days ago\n"
     ]
    }
   ],
   "source": [
    "## Job Description\n",
    "print(jd_desc[0].text)"
   ]
  },
  {
   "cell_type": "code",
   "execution_count": 10,
   "metadata": {},
   "outputs": [
    {
     "name": "stdout",
     "output_type": "stream",
     "text": [
      "Research Scientist, Machine Learning / Artificial Intelligence\n"
     ]
    }
   ],
   "source": [
    "## Job Title \n",
    "print(jd_soup.body.p.b.font.text)"
   ]
  },
  {
   "cell_type": "code",
   "execution_count": 11,
   "metadata": {},
   "outputs": [
    {
     "name": "stdout",
     "output_type": "stream",
     "text": [
      "Disney\n",
      "Disney Parks & Resorts \n"
     ]
    }
   ],
   "source": [
    "## Company Name\n",
    "print(jd_desc[0].span.text)\n",
    "print(jd_soup.body.p.span.previous_sibling.split('-')[0][1:])"
   ]
  },
  {
   "cell_type": "code",
   "execution_count": 12,
   "metadata": {},
   "outputs": [
    {
     "data": {
      "text/plain": [
       "['Data Scientist',\n",
       " 'Data Analyst',\n",
       " 'Intern – Data Scientist, Data Analytics & Insights',\n",
       " 'Data Scientist',\n",
       " 'Data Analyst - Devices Customer Engagement',\n",
       " 'Resource Intern LA - Summer 2018',\n",
       " 'Data Scientist',\n",
       " 'Data Scientist',\n",
       " 'Manager of Data Science & Analytics',\n",
       " 'Research Scientist, Machine Learning / Artificial Intelligence']"
      ]
     },
     "execution_count": 12,
     "metadata": {},
     "output_type": "execute_result"
    }
   ],
   "source": [
    "title"
   ]
  },
  {
   "cell_type": "markdown",
   "metadata": {},
   "source": [
    "#### Save the data into Data Frame"
   ]
  },
  {
   "cell_type": "code",
   "execution_count": 13,
   "metadata": {
    "collapsed": true
   },
   "outputs": [],
   "source": [
    "job = {'title': title,\n",
    "         'company': company,\n",
    "         'location': location,\n",
    "         'Job Description': jd}\n",
    "df = pd.DataFrame.from_dict(job)"
   ]
  },
  {
   "cell_type": "code",
   "execution_count": 14,
   "metadata": {},
   "outputs": [
    {
     "data": {
      "text/html": [
       "<div>\n",
       "<style>\n",
       "    .dataframe thead tr:only-child th {\n",
       "        text-align: right;\n",
       "    }\n",
       "\n",
       "    .dataframe thead th {\n",
       "        text-align: left;\n",
       "    }\n",
       "\n",
       "    .dataframe tbody tr th {\n",
       "        vertical-align: top;\n",
       "    }\n",
       "</style>\n",
       "<table border=\"1\" class=\"dataframe\">\n",
       "  <thead>\n",
       "    <tr style=\"text-align: right;\">\n",
       "      <th></th>\n",
       "      <th>Job Description</th>\n",
       "      <th>company</th>\n",
       "      <th>location</th>\n",
       "      <th>title</th>\n",
       "    </tr>\n",
       "  </thead>\n",
       "  <tbody>\n",
       "    <tr>\n",
       "      <th>0</th>\n",
       "      <td>Hulu is a premium streaming TV destination tha...</td>\n",
       "      <td>Hulu</td>\n",
       "      <td>Santa Monica, CA</td>\n",
       "      <td>Data Scientist</td>\n",
       "    </tr>\n",
       "    <tr>\n",
       "      <th>1</th>\n",
       "      <td>Are you passionate about leveraging data to de...</td>\n",
       "      <td>Amazon.com</td>\n",
       "      <td>Manhattan Beach, CA</td>\n",
       "      <td>Data Analyst</td>\n",
       "    </tr>\n",
       "    <tr>\n",
       "      <th>2</th>\n",
       "      <td>\\nIntegrate multiple data sources and define k...</td>\n",
       "      <td>NBCUniversal</td>\n",
       "      <td>Universal City, CA</td>\n",
       "      <td>Intern – Data Scientist, Data Analytics &amp; Insi...</td>\n",
       "    </tr>\n",
       "    <tr>\n",
       "      <th>3</th>\n",
       "      <td>-\\n\\n328267\\n\\nDiscover it Here.\\n\\nAt Nordstr...</td>\n",
       "      <td>Nordstrom</td>\n",
       "      <td>Los Angeles, CA 90045</td>\n",
       "      <td>Data Scientist</td>\n",
       "    </tr>\n",
       "    <tr>\n",
       "      <th>4</th>\n",
       "      <td>Consider this challenge: every day, tens of mi...</td>\n",
       "      <td>Amazon.com</td>\n",
       "      <td>Santa Monica, CA</td>\n",
       "      <td>Data Analyst - Devices Customer Engagement</td>\n",
       "    </tr>\n",
       "    <tr>\n",
       "      <th>5</th>\n",
       "      <td>Reporting to the Sr. Resource Manager, this po...</td>\n",
       "      <td>BuzzFeed</td>\n",
       "      <td>Los Angeles, CA 90036</td>\n",
       "      <td>Resource Intern LA - Summer 2018</td>\n",
       "    </tr>\n",
       "    <tr>\n",
       "      <th>6</th>\n",
       "      <td>In addition to the responsibilities listed bel...</td>\n",
       "      <td>Kaiser Permanente</td>\n",
       "      <td>Pasadena, CA</td>\n",
       "      <td>Data Scientist</td>\n",
       "    </tr>\n",
       "    <tr>\n",
       "      <th>7</th>\n",
       "      <td>Are you interested in working for the music in...</td>\n",
       "      <td>Universal Music Group</td>\n",
       "      <td>Santa Monica, CA</td>\n",
       "      <td>Data Scientist</td>\n",
       "    </tr>\n",
       "    <tr>\n",
       "      <th>8</th>\n",
       "      <td>-\\n\\n329525\\n\\nDiscover it Here.\\n\\nAt Nordstr...</td>\n",
       "      <td>Nordstrom</td>\n",
       "      <td>Los Angeles, CA 90045</td>\n",
       "      <td>Manager of Data Science &amp; Analytics</td>\n",
       "    </tr>\n",
       "    <tr>\n",
       "      <th>9</th>\n",
       "      <td>Research Scientists work on and contribute to ...</td>\n",
       "      <td>Disney</td>\n",
       "      <td>Glendale, CA</td>\n",
       "      <td>Research Scientist, Machine Learning / Artific...</td>\n",
       "    </tr>\n",
       "  </tbody>\n",
       "</table>\n",
       "</div>"
      ],
      "text/plain": [
       "                                     Job Description                company  \\\n",
       "0  Hulu is a premium streaming TV destination tha...                   Hulu   \n",
       "1  Are you passionate about leveraging data to de...             Amazon.com   \n",
       "2  \\nIntegrate multiple data sources and define k...           NBCUniversal   \n",
       "3  -\\n\\n328267\\n\\nDiscover it Here.\\n\\nAt Nordstr...              Nordstrom   \n",
       "4  Consider this challenge: every day, tens of mi...             Amazon.com   \n",
       "5  Reporting to the Sr. Resource Manager, this po...               BuzzFeed   \n",
       "6  In addition to the responsibilities listed bel...      Kaiser Permanente   \n",
       "7  Are you interested in working for the music in...  Universal Music Group   \n",
       "8  -\\n\\n329525\\n\\nDiscover it Here.\\n\\nAt Nordstr...              Nordstrom   \n",
       "9  Research Scientists work on and contribute to ...                 Disney   \n",
       "\n",
       "                location                                              title  \n",
       "0       Santa Monica, CA                                     Data Scientist  \n",
       "1    Manhattan Beach, CA                                       Data Analyst  \n",
       "2     Universal City, CA  Intern – Data Scientist, Data Analytics & Insi...  \n",
       "3  Los Angeles, CA 90045                                     Data Scientist  \n",
       "4       Santa Monica, CA         Data Analyst - Devices Customer Engagement  \n",
       "5  Los Angeles, CA 90036                   Resource Intern LA - Summer 2018  \n",
       "6           Pasadena, CA                                     Data Scientist  \n",
       "7       Santa Monica, CA                                     Data Scientist  \n",
       "8  Los Angeles, CA 90045                Manager of Data Science & Analytics  \n",
       "9           Glendale, CA  Research Scientist, Machine Learning / Artific...  "
      ]
     },
     "execution_count": 14,
     "metadata": {},
     "output_type": "execute_result"
    }
   ],
   "source": [
    "df"
   ]
  },
  {
   "cell_type": "markdown",
   "metadata": {},
   "source": [
    "If we don't break the loop above, we can crawl all the job information from one page."
   ]
  },
  {
   "cell_type": "markdown",
   "metadata": {},
   "source": [
    "## 3. Change Pages Automatically"
   ]
  },
  {
   "cell_type": "code",
   "execution_count": 15,
   "metadata": {
    "collapsed": true
   },
   "outputs": [],
   "source": [
    "title = []\n",
    "company = []\n",
    "location = []\n",
    "jd = []\n",
    "url = \"https://www.indeed.com/m/jobs?q=data+scientist&l=Los+Angeles%2C+CA\"\n",
    "for i in range(2): # search to page 2\n",
    "    \n",
    "    page = urlopen(url)\n",
    "    soup = BeautifulSoup(page, 'lxml')\n",
    "    all_matches = soup.findAll(attrs={'rel':['nofollow']})\n",
    "    for each in all_matches:\n",
    "        jd_url= 'http://www.indeed.com/m/'+each['href']\n",
    "        jd_page =urlopen(jd_url)\n",
    "        jd_soup = BeautifulSoup(jd_page, 'lxml')\n",
    "        jd_desc = jd_soup.findAll(attrs={'id':['desc']})\n",
    "        title.append(jd_soup.body.p.b.font.text)\n",
    "        company.append(jd_desc[0].span.text)\n",
    "        location.append(jd_soup.body.p.span.text)\n",
    "        jd.append(jd_desc[0].text)\n",
    "        \n",
    "    ## Change the pages to Next Page\n",
    "    url_all = soup.findAll(attrs={'rel':['next']})\n",
    "    url = 'http://www.indeed.com/m/'+ str(url_all[0]['href'])\n"
   ]
  },
  {
   "cell_type": "code",
   "execution_count": 16,
   "metadata": {
    "collapsed": true
   },
   "outputs": [],
   "source": [
    "job = {'title': title,\n",
    "         'company': company,\n",
    "         'location': location,\n",
    "         'Job Description': jd}\n",
    "df = pd.DataFrame.from_dict(job)"
   ]
  },
  {
   "cell_type": "code",
   "execution_count": 17,
   "metadata": {},
   "outputs": [
    {
     "data": {
      "text/html": [
       "<div>\n",
       "<style>\n",
       "    .dataframe thead tr:only-child th {\n",
       "        text-align: right;\n",
       "    }\n",
       "\n",
       "    .dataframe thead th {\n",
       "        text-align: left;\n",
       "    }\n",
       "\n",
       "    .dataframe tbody tr th {\n",
       "        vertical-align: top;\n",
       "    }\n",
       "</style>\n",
       "<table border=\"1\" class=\"dataframe\">\n",
       "  <thead>\n",
       "    <tr style=\"text-align: right;\">\n",
       "      <th></th>\n",
       "      <th>Job Description</th>\n",
       "      <th>company</th>\n",
       "      <th>location</th>\n",
       "      <th>title</th>\n",
       "    </tr>\n",
       "  </thead>\n",
       "  <tbody>\n",
       "    <tr>\n",
       "      <th>0</th>\n",
       "      <td>Hulu is a premium streaming TV destination tha...</td>\n",
       "      <td>Hulu</td>\n",
       "      <td>Santa Monica, CA</td>\n",
       "      <td>Data Scientist</td>\n",
       "    </tr>\n",
       "    <tr>\n",
       "      <th>1</th>\n",
       "      <td>Are you passionate about leveraging data to de...</td>\n",
       "      <td>Amazon.com</td>\n",
       "      <td>Manhattan Beach, CA</td>\n",
       "      <td>Data Analyst</td>\n",
       "    </tr>\n",
       "    <tr>\n",
       "      <th>2</th>\n",
       "      <td>\\nIntegrate multiple data sources and define k...</td>\n",
       "      <td>NBCUniversal</td>\n",
       "      <td>Universal City, CA</td>\n",
       "      <td>Intern – Data Scientist, Data Analytics &amp; Insi...</td>\n",
       "    </tr>\n",
       "    <tr>\n",
       "      <th>3</th>\n",
       "      <td>-\\n\\n328267\\n\\nDiscover it Here.\\n\\nAt Nordstr...</td>\n",
       "      <td>Nordstrom</td>\n",
       "      <td>Los Angeles, CA 90045</td>\n",
       "      <td>Data Scientist</td>\n",
       "    </tr>\n",
       "    <tr>\n",
       "      <th>4</th>\n",
       "      <td>Consider this challenge: every day, tens of mi...</td>\n",
       "      <td>Amazon.com</td>\n",
       "      <td>Santa Monica, CA</td>\n",
       "      <td>Data Analyst - Devices Customer Engagement</td>\n",
       "    </tr>\n",
       "    <tr>\n",
       "      <th>5</th>\n",
       "      <td>Reporting to the Sr. Resource Manager, this po...</td>\n",
       "      <td>BuzzFeed</td>\n",
       "      <td>Los Angeles, CA 90036</td>\n",
       "      <td>Resource Intern LA - Summer 2018</td>\n",
       "    </tr>\n",
       "    <tr>\n",
       "      <th>6</th>\n",
       "      <td>In addition to the responsibilities listed bel...</td>\n",
       "      <td>Kaiser Permanente</td>\n",
       "      <td>Pasadena, CA</td>\n",
       "      <td>Data Scientist</td>\n",
       "    </tr>\n",
       "    <tr>\n",
       "      <th>7</th>\n",
       "      <td>Are you interested in working for the music in...</td>\n",
       "      <td>Universal Music Group</td>\n",
       "      <td>Santa Monica, CA</td>\n",
       "      <td>Data Scientist</td>\n",
       "    </tr>\n",
       "    <tr>\n",
       "      <th>8</th>\n",
       "      <td>-\\n\\n329525\\n\\nDiscover it Here.\\n\\nAt Nordstr...</td>\n",
       "      <td>Nordstrom</td>\n",
       "      <td>Los Angeles, CA 90045</td>\n",
       "      <td>Manager of Data Science &amp; Analytics</td>\n",
       "    </tr>\n",
       "    <tr>\n",
       "      <th>9</th>\n",
       "      <td>Research Scientists work on and contribute to ...</td>\n",
       "      <td>Disney</td>\n",
       "      <td>Glendale, CA</td>\n",
       "      <td>Research Scientist, Machine Learning / Artific...</td>\n",
       "    </tr>\n",
       "    <tr>\n",
       "      <th>10</th>\n",
       "      <td>Who We Are\\n\\nEDO is a data analytics firm tha...</td>\n",
       "      <td>EDO, Inc.</td>\n",
       "      <td>Culver City, CA</td>\n",
       "      <td>Data Scientist</td>\n",
       "    </tr>\n",
       "    <tr>\n",
       "      <th>11</th>\n",
       "      <td>In the role of Data Scientist for Sony Picture...</td>\n",
       "      <td>Sony Pictures Entertainment Inc.</td>\n",
       "      <td>Culver City, CA 90232</td>\n",
       "      <td>Data Scientist</td>\n",
       "    </tr>\n",
       "    <tr>\n",
       "      <th>12</th>\n",
       "      <td>Universal Games &amp; Digital Platforms Group\\n\\nE...</td>\n",
       "      <td>NBCUniversal</td>\n",
       "      <td>Universal City, CA</td>\n",
       "      <td>Data Scientist</td>\n",
       "    </tr>\n",
       "    <tr>\n",
       "      <th>13</th>\n",
       "      <td>Who You Are\\n-----------\\n\\nYou are a highly m...</td>\n",
       "      <td>Fair</td>\n",
       "      <td>Santa Monica, CA</td>\n",
       "      <td>Data Scientist</td>\n",
       "    </tr>\n",
       "    <tr>\n",
       "      <th>14</th>\n",
       "      <td>Qualifications:Ph.D. degree in Computer Scienc...</td>\n",
       "      <td>30+ days ago</td>\n",
       "      <td>Los Angeles, CA</td>\n",
       "      <td>Senior Data Scientist</td>\n",
       "    </tr>\n",
       "    <tr>\n",
       "      <th>15</th>\n",
       "      <td>Job description:\\n\\nOrganize quantitative rese...</td>\n",
       "      <td>Stackyork</td>\n",
       "      <td>Los Angeles, CA</td>\n",
       "      <td>Data scientist</td>\n",
       "    </tr>\n",
       "    <tr>\n",
       "      <th>16</th>\n",
       "      <td>Taboola is one of fastest-growing global tech ...</td>\n",
       "      <td>Taboola</td>\n",
       "      <td>Los Angeles, CA</td>\n",
       "      <td>Data Scientist</td>\n",
       "    </tr>\n",
       "    <tr>\n",
       "      <th>17</th>\n",
       "      <td>Riot Games was established in 2006 by entrepre...</td>\n",
       "      <td>Riot Games</td>\n",
       "      <td>Los Angeles, CA</td>\n",
       "      <td>Data Scientist</td>\n",
       "    </tr>\n",
       "    <tr>\n",
       "      <th>18</th>\n",
       "      <td>Pray.com is a social impact company: we’re dri...</td>\n",
       "      <td>Pray</td>\n",
       "      <td>Los Angeles, CA</td>\n",
       "      <td>Data Scientist</td>\n",
       "    </tr>\n",
       "    <tr>\n",
       "      <th>19</th>\n",
       "      <td>CannaData Solutions is looking to add a Data S...</td>\n",
       "      <td>6 days ago</td>\n",
       "      <td>Los Angeles, CA</td>\n",
       "      <td>Data Scientist</td>\n",
       "    </tr>\n",
       "  </tbody>\n",
       "</table>\n",
       "</div>"
      ],
      "text/plain": [
       "                                      Job Description  \\\n",
       "0   Hulu is a premium streaming TV destination tha...   \n",
       "1   Are you passionate about leveraging data to de...   \n",
       "2   \\nIntegrate multiple data sources and define k...   \n",
       "3   -\\n\\n328267\\n\\nDiscover it Here.\\n\\nAt Nordstr...   \n",
       "4   Consider this challenge: every day, tens of mi...   \n",
       "5   Reporting to the Sr. Resource Manager, this po...   \n",
       "6   In addition to the responsibilities listed bel...   \n",
       "7   Are you interested in working for the music in...   \n",
       "8   -\\n\\n329525\\n\\nDiscover it Here.\\n\\nAt Nordstr...   \n",
       "9   Research Scientists work on and contribute to ...   \n",
       "10  Who We Are\\n\\nEDO is a data analytics firm tha...   \n",
       "11  In the role of Data Scientist for Sony Picture...   \n",
       "12  Universal Games & Digital Platforms Group\\n\\nE...   \n",
       "13  Who You Are\\n-----------\\n\\nYou are a highly m...   \n",
       "14  Qualifications:Ph.D. degree in Computer Scienc...   \n",
       "15  Job description:\\n\\nOrganize quantitative rese...   \n",
       "16  Taboola is one of fastest-growing global tech ...   \n",
       "17  Riot Games was established in 2006 by entrepre...   \n",
       "18  Pray.com is a social impact company: we’re dri...   \n",
       "19  CannaData Solutions is looking to add a Data S...   \n",
       "\n",
       "                             company               location  \\\n",
       "0                               Hulu       Santa Monica, CA   \n",
       "1                         Amazon.com    Manhattan Beach, CA   \n",
       "2                       NBCUniversal     Universal City, CA   \n",
       "3                          Nordstrom  Los Angeles, CA 90045   \n",
       "4                         Amazon.com       Santa Monica, CA   \n",
       "5                           BuzzFeed  Los Angeles, CA 90036   \n",
       "6                  Kaiser Permanente           Pasadena, CA   \n",
       "7              Universal Music Group       Santa Monica, CA   \n",
       "8                          Nordstrom  Los Angeles, CA 90045   \n",
       "9                             Disney           Glendale, CA   \n",
       "10                         EDO, Inc.        Culver City, CA   \n",
       "11  Sony Pictures Entertainment Inc.  Culver City, CA 90232   \n",
       "12                      NBCUniversal     Universal City, CA   \n",
       "13                              Fair       Santa Monica, CA   \n",
       "14                      30+ days ago        Los Angeles, CA   \n",
       "15                         Stackyork        Los Angeles, CA   \n",
       "16                           Taboola        Los Angeles, CA   \n",
       "17                        Riot Games        Los Angeles, CA   \n",
       "18                              Pray        Los Angeles, CA   \n",
       "19                        6 days ago        Los Angeles, CA   \n",
       "\n",
       "                                                title  \n",
       "0                                      Data Scientist  \n",
       "1                                        Data Analyst  \n",
       "2   Intern – Data Scientist, Data Analytics & Insi...  \n",
       "3                                      Data Scientist  \n",
       "4          Data Analyst - Devices Customer Engagement  \n",
       "5                    Resource Intern LA - Summer 2018  \n",
       "6                                      Data Scientist  \n",
       "7                                      Data Scientist  \n",
       "8                 Manager of Data Science & Analytics  \n",
       "9   Research Scientist, Machine Learning / Artific...  \n",
       "10                                     Data Scientist  \n",
       "11                                     Data Scientist  \n",
       "12                                     Data Scientist  \n",
       "13                                     Data Scientist  \n",
       "14                              Senior Data Scientist  \n",
       "15                                     Data scientist  \n",
       "16                                     Data Scientist  \n",
       "17                                     Data Scientist  \n",
       "18                                     Data Scientist  \n",
       "19                                     Data Scientist  "
      ]
     },
     "execution_count": 17,
     "metadata": {},
     "output_type": "execute_result"
    }
   ],
   "source": [
    "df"
   ]
  },
  {
   "cell_type": "code",
   "execution_count": null,
   "metadata": {
    "collapsed": true
   },
   "outputs": [],
   "source": []
  }
 ],
 "metadata": {
  "kernelspec": {
   "display_name": "Python 3",
   "language": "python",
   "name": "python3"
  },
  "language_info": {
   "codemirror_mode": {
    "name": "ipython",
    "version": 3
   },
   "file_extension": ".py",
   "mimetype": "text/x-python",
   "name": "python",
   "nbconvert_exporter": "python",
   "pygments_lexer": "ipython3",
   "version": "3.6.1"
  }
 },
 "nbformat": 4,
 "nbformat_minor": 1
}
