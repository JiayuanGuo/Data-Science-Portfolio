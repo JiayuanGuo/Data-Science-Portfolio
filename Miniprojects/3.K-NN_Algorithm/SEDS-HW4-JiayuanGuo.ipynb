{
 "cells": [
  {
   "cell_type": "code",
   "execution_count": 1,
   "metadata": {
    "collapsed": true
   },
   "outputs": [],
   "source": [
    "import numpy as np\n",
    "import pandas as pd \n",
    "import math\n",
    "import operator"
   ]
  },
  {
   "cell_type": "code",
   "execution_count": 2,
   "metadata": {
    "collapsed": true
   },
   "outputs": [],
   "source": [
    "#load our datafiles\n",
    "data = pd.read_csv('atomsradii.csv')\n",
    "testing = pd.read_csv('testing.csv')\n",
    "#define training dataset and testing dataset\n",
    "data_rWC = data.iloc[:,0].values\n",
    "data_rCh = data.iloc[:,1].values\n",
    "testing_rWC = testing.iloc[:,0].values\n",
    "testing_rCh = testing.iloc[:,1].values\n",
    "data_type = pd.DataFrame(data.iloc[:,3].values)\n",
    "testing_type = pd.DataFrame(testing.iloc[:,3].values)\n",
    "#combine rWC and rCh as an array\n",
    "df_data = np.column_stack((data_rWC,data_rCh))\n",
    "df_testing = np.column_stack((testing_rWC,testing_rCh))"
   ]
  },
  {
   "cell_type": "code",
   "execution_count": 3,
   "metadata": {
    "collapsed": true
   },
   "outputs": [],
   "source": [
    "def EuclideanDistance(instance1, instance2):\n",
    "    \"\"\"This function calculates the Euclidean distance\"\"\"\n",
    "    distance = 0\n",
    "    for x in range(2):\n",
    "        distance += pow((instance1[x] - instance2[x]), 2)\n",
    "    return math.sqrt(distance)"
   ]
  },
  {
   "cell_type": "code",
   "execution_count": 12,
   "metadata": {
    "collapsed": true
   },
   "outputs": [],
   "source": [
    "def test_EuclideanDistance():\n",
    "    instance1 = [1,1]\n",
    "    instance2 = [4,5]\n",
    "    #print(EuclideanDistance(instance1, instance2))\n",
    "    assert EuclideanDistance(instance1, instance2) == 5, \"Result of euclidean calculation is wrong\"\n",
    "    return"
   ]
  },
  {
   "cell_type": "code",
   "execution_count": 13,
   "metadata": {
    "collapsed": true
   },
   "outputs": [],
   "source": [
    "def SortedEuclidean(test_data,training_data):\n",
    "    \"\"\"This function returns a sorted list containing euclidean distances from a specific test data \n",
    "    to a row of training data, a correspond data point (defined by rWC and rCh) and its type \n",
    "    \"\"\"\n",
    "    distances = []\n",
    "    for item in training_data:\n",
    "        dist = EuclideanDistance(test_data,item)\n",
    "        distances.append((dist,item))\n",
    "        df_distances = pd.DataFrame(distances)\n",
    "        d = pd.merge(df_distances,data_type,left_index=True,right_index=True,how='outer')\n",
    "        d.columns = ['euclidean_distance','data_point','type']\n",
    "        sorted_list = d.sort_values(by='euclidean_distance',ascending=True)\n",
    "        sorted_list = sorted_list.reset_index(drop=True)\n",
    "    return sorted_list"
   ]
  },
  {
   "cell_type": "code",
   "execution_count": 14,
   "metadata": {
    "collapsed": true
   },
   "outputs": [],
   "source": [
    "def test_SortedEulidean():\n",
    "    \"\"\"This function test the order of SortedEulidean function\"\"\"\n",
    "    test_data = [1,1]\n",
    "    training_data = df_data\n",
    "    assert SortedEuclidean(test_data,training_data).iloc[0][0] < SortedEuclidean(test_data,training_data).iloc[1][0], \"The sorted order is wrong\"\n",
    "    return"
   ]
  },
  {
   "cell_type": "code",
   "execution_count": 5,
   "metadata": {
    "collapsed": true
   },
   "outputs": [],
   "source": [
    "def GetNeighbors(test_data,training_data, k):\n",
    "    \"\"\"This function get the neighbors that returns k most similar neighbors from the training set \n",
    "       for a given input data (using the already defined EuclideanDistance function)\n",
    "       Create a dictionary and set different types as keys to store Neighbordata in separated lists \"\"\"\n",
    "    TrainingData = SortedEuclidean(test_data,training_data)\n",
    "    NeighborData = TrainingData.head(k)\n",
    "    #initialize dictionaries and set different types as keys\n",
    "    keyDict = {'PT','TM','Alk'}\n",
    "    neighbors_dict = dict([(key, []) for key in keyDict])\n",
    "    for i in range(k):\n",
    "        data_distance = NeighborData.iloc[i,0]\n",
    "        data_type = NeighborData.iloc[i,2]\n",
    "        neighbors_dict[data_type].append(data_distance) \n",
    "    #add a list containing distances and counts as the value of keys\n",
    "    count_PT = len(neighbors_dict['PT'])\n",
    "    count_TM = len(neighbors_dict['TM'])\n",
    "    count_Alk = len(neighbors_dict['Alk'])\n",
    "    neighbors_dict.setdefault('PT',[]).append(count_PT)\n",
    "    neighbors_dict.setdefault('TM',[]).append(count_TM)\n",
    "    neighbors_dict.setdefault('Alk',[]).append(count_Alk)\n",
    "    return neighbors_dict"
   ]
  },
  {
   "cell_type": "code",
   "execution_count": 15,
   "metadata": {
    "collapsed": true
   },
   "outputs": [],
   "source": [
    "def test_GetNeighbors():\n",
    "    test_data = [0.51,1.12]\n",
    "    training_data = df_data\n",
    "    k=3\n",
    "    assert GetNeighbors(test_data,training_data, k)['Alk'][-1] == 3, \"Count of neighbor points is wrong\"\n",
    "    return"
   ]
  },
  {
   "cell_type": "code",
   "execution_count": 6,
   "metadata": {
    "collapsed": false
   },
   "outputs": [],
   "source": [
    "def ClassPrediction(test_data,training_data, k):\n",
    "    \"\"\"This function uses knn algorithm to predict the specific class for a given input data\"\"\"\n",
    "    #Create a dictionary to extract all the counts for different types\n",
    "    neighbors = GetNeighbors(test_data,training_data, k)\n",
    "    count_PT = neighbors['PT'][-1]\n",
    "    count_TM = neighbors['TM'][-1]\n",
    "    count_Alk = neighbors['Alk'][-1]\n",
    "    type_counts={'PT':count_PT,'TM':count_TM,'Alk':count_Alk}\n",
    "    #Get the max value count \n",
    "    max_count = max(type_counts.values())\n",
    "    result = max(type_counts,key=type_counts.get)\n",
    "    return result"
   ]
  },
  {
   "cell_type": "code",
   "execution_count": 16,
   "metadata": {
    "collapsed": true
   },
   "outputs": [],
   "source": [
    "def test_ClassPrediction():\n",
    "    test_data = [0.51,1.12]\n",
    "    training_data = df_data\n",
    "    k=5\n",
    "    assert ClassPrediction(test_data,training_data, k) == 'Alk', \"Class Prediction is wrong\"\n",
    "    return"
   ]
  },
  {
   "cell_type": "code",
   "execution_count": 20,
   "metadata": {
    "collapsed": true
   },
   "outputs": [],
   "source": [
    "def accuracy(test_dataframe,test_data,training_data,k):\n",
    "    \"\"\"This function calculates the accuracy for a given k value\"\"\"\n",
    "    correct = 0\n",
    "    for i in range(len(test_dataframe)):\n",
    "        if test_dataframe.iloc[i][-1] == ClassPrediction(test_data[i],training_data, k):\n",
    "            correct += 1\n",
    "            accuracy =(correct/float(len(test_data))) * 100\n",
    "    return repr(accuracy) + \"%\""
   ]
  },
  {
   "cell_type": "code",
   "execution_count": 27,
   "metadata": {
    "collapsed": true
   },
   "outputs": [],
   "source": [
    "def test_accuracy():\n",
    "    test_dataframe = testing\n",
    "    test_data = df_testing\n",
    "    training_data = df_data\n",
    "    k = 3\n",
    "    assert accuracy(test_dataframe,test_data,training_data,k) == '60.0%', \"Accuracy calculated wrong\""
   ]
  },
  {
   "cell_type": "code",
   "execution_count": 37,
   "metadata": {
    "collapsed": false,
    "scrolled": false
   },
   "outputs": [],
   "source": [
    "def k_accuracy():\n",
    "    \"\"\"This function returns to a dictionary containing k value \n",
    "    and corresponding accuracy that helps the user decide on what k to use.\"\"\"\n",
    "    accuracy_dict={}\n",
    "    for i in range(1,len(training_data)+1):\n",
    "        accuracy_dict[i] = accuracy(test_dataframe,test_data,training_data,i)\n",
    "    return accuracy_dict"
   ]
  },
  {
   "cell_type": "code",
   "execution_count": 38,
   "metadata": {
    "collapsed": false
   },
   "outputs": [],
   "source": [
    "def test_k_accuracy():\n",
    "    assert type(k_accuracy()) == dict,\"The output type is wrong\"\n",
    "    return"
   ]
  },
  {
   "cell_type": "code",
   "execution_count": 39,
   "metadata": {
    "collapsed": false
   },
   "outputs": [],
   "source": [
    "test_k_accuracy()"
   ]
  }
 ],
 "metadata": {
  "anaconda-cloud": {},
  "kernelspec": {
   "display_name": "Python [conda root]",
   "language": "python",
   "name": "conda-root-py"
  },
  "language_info": {
   "codemirror_mode": {
    "name": "ipython",
    "version": 3
   },
   "file_extension": ".py",
   "mimetype": "text/x-python",
   "name": "python",
   "nbconvert_exporter": "python",
   "pygments_lexer": "ipython3",
   "version": "3.5.2"
  }
 },
 "nbformat": 4,
 "nbformat_minor": 2
}
